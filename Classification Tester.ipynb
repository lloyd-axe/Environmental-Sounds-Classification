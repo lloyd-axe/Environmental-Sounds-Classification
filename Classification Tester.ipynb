{
 "cells": [
  {
   "cell_type": "markdown",
   "id": "30ad824d",
   "metadata": {},
   "source": [
    "# Classification Tester"
   ]
  },
  {
   "cell_type": "code",
   "execution_count": 1,
   "id": "56c88330",
   "metadata": {},
   "outputs": [],
   "source": [
    "import os\n",
    "import json\n",
    "import numpy as np\n",
    "import pandas as pd\n",
    "from AudioUtils import AudioUtils\n",
    "from TrainingUtils import TrainingUtils\n",
    "from SoundDS import SoundDS"
   ]
  },
  {
   "cell_type": "markdown",
   "id": "44eeae85",
   "metadata": {},
   "source": [
    "## Prepare Data"
   ]
  },
  {
   "cell_type": "code",
   "execution_count": 2,
   "id": "6e9e2ecd",
   "metadata": {},
   "outputs": [],
   "source": [
    "DATA_PATH = r'C:\\Users\\Lloyd Acha\\Documents\\ACHA_Files\\Projects\\Programming\\DataSets\\UrbanSound8K' #Data set path\n",
    "metadata = os.path.join(DATA_PATH, 'metadata', 'UrbanSound8K.csv')\n",
    "audio_path = os.path.join(DATA_PATH, 'audio')"
   ]
  },
  {
   "cell_type": "code",
   "execution_count": 3,
   "id": "c3594fef",
   "metadata": {},
   "outputs": [],
   "source": [
    "df = pd.read_csv(metadata)\n",
    "df['relative_path'] = 'fold' + df['fold'].astype(str) + '/' + df['slice_file_name'].astype(str)\n",
    "df = df[['relative_path', 'classID', 'class']]\n",
    "DS = SoundDS(df, audio_path)"
   ]
  },
  {
   "cell_type": "code",
   "execution_count": null,
   "id": "6ef8ef40",
   "metadata": {},
   "outputs": [],
   "source": [
    "x_raw, y_raw = [],[]\n",
    "for _, data in enumerate(DS):\n",
    "    x, y = data\n",
    "    x_raw.append(x)\n",
    "    y_raw.append(y)"
   ]
  },
  {
   "cell_type": "code",
   "execution_count": 4,
   "id": "325b1783",
   "metadata": {},
   "outputs": [],
   "source": [
    "init = True\n",
    "for f in os.listdir(os.path.join('save','x')):\n",
    "    if init:\n",
    "        x_raw = np.load(os.path.join('save','x', f))\n",
    "        init = False\n",
    "    else:\n",
    "        x_raw = np.append(x_raw, np.load(os.path.join('save','x', f)), axis=0)\n",
    "init = True\n",
    "for f in os.listdir(os.path.join('save','y')):\n",
    "    if init:\n",
    "        y_raw = np.load(os.path.join('save','y', f))\n",
    "        init = False\n",
    "    else:\n",
    "        y_raw = np.append(y_raw, np.load(os.path.join('save','y', f)), axis=0)"
   ]
  },
  {
   "cell_type": "code",
   "execution_count": 5,
   "id": "05a8ba36",
   "metadata": {},
   "outputs": [
    {
     "data": {
      "text/plain": [
       "((8732, 258, 13), (8732,))"
      ]
     },
     "execution_count": 5,
     "metadata": {},
     "output_type": "execute_result"
    }
   ],
   "source": [
    "x_raw.shape, y_raw.shape"
   ]
  },
  {
   "cell_type": "markdown",
   "id": "793caf86",
   "metadata": {},
   "source": [
    "## Train"
   ]
  },
  {
   "cell_type": "code",
   "execution_count": 6,
   "id": "a91075bf",
   "metadata": {},
   "outputs": [],
   "source": [
    "inputs = TrainingUtils.prepare_input(x_raw, y_raw)\n",
    "model = TrainingUtils.createmodel()"
   ]
  },
  {
   "cell_type": "code",
   "execution_count": 7,
   "id": "8f9de8e6",
   "metadata": {},
   "outputs": [
    {
     "name": "stdout",
     "output_type": "stream",
     "text": [
      "Epoch 1/20\n",
      "247/247 [==============================] - 12s 48ms/step - loss: 1.4209 - categorical_accuracy: 0.5121\n",
      "Epoch 2/20\n",
      "247/247 [==============================] - 12s 49ms/step - loss: 0.9923 - categorical_accuracy: 0.6528\n",
      "Epoch 3/20\n",
      "247/247 [==============================] - 13s 51ms/step - loss: 0.8380 - categorical_accuracy: 0.7133\n",
      "Epoch 4/20\n",
      "247/247 [==============================] - 13s 52ms/step - loss: 0.7090 - categorical_accuracy: 0.7543\n",
      "Epoch 5/20\n",
      "247/247 [==============================] - 13s 52ms/step - loss: 0.6126 - categorical_accuracy: 0.7920\n",
      "Epoch 6/20\n",
      "247/247 [==============================] - 13s 51ms/step - loss: 0.5141 - categorical_accuracy: 0.8207\n",
      "Epoch 7/20\n",
      "247/247 [==============================] - 12s 49ms/step - loss: 0.4712 - categorical_accuracy: 0.8340\n",
      "Epoch 8/20\n",
      "247/247 [==============================] - 13s 51ms/step - loss: 0.3766 - categorical_accuracy: 0.8717\n",
      "Epoch 9/20\n",
      "247/247 [==============================] - 13s 51ms/step - loss: 0.3657 - categorical_accuracy: 0.8730\n",
      "Epoch 10/20\n",
      "247/247 [==============================] - 13s 51ms/step - loss: 0.3297 - categorical_accuracy: 0.8888\n",
      "Epoch 11/20\n",
      "247/247 [==============================] - 12s 50ms/step - loss: 0.3311 - categorical_accuracy: 0.8881\n",
      "Epoch 12/20\n",
      "247/247 [==============================] - 13s 52ms/step - loss: 0.2831 - categorical_accuracy: 0.90320s - loss: 0.2810 - categorical_ac\n",
      "Epoch 13/20\n",
      "247/247 [==============================] - 13s 51ms/step - loss: 0.2489 - categorical_accuracy: 0.9132\n",
      "Epoch 14/20\n",
      "247/247 [==============================] - 13s 51ms/step - loss: 0.2185 - categorical_accuracy: 0.9297\n",
      "Epoch 15/20\n",
      "247/247 [==============================] - 12s 50ms/step - loss: 0.2418 - categorical_accuracy: 0.9161\n",
      "Epoch 16/20\n",
      "247/247 [==============================] - 12s 50ms/step - loss: 0.1927 - categorical_accuracy: 0.9315\n",
      "Epoch 17/20\n",
      "247/247 [==============================] - 13s 51ms/step - loss: 0.1752 - categorical_accuracy: 0.9386\n",
      "Epoch 18/20\n",
      "247/247 [==============================] - 13s 51ms/step - loss: 0.1605 - categorical_accuracy: 0.9454\n",
      "Epoch 19/20\n",
      "247/247 [==============================] - 13s 52ms/step - loss: 0.1463 - categorical_accuracy: 0.9496\n",
      "Epoch 20/20\n",
      "247/247 [==============================] - 12s 50ms/step - loss: 0.1609 - categorical_accuracy: 0.9411\n"
     ]
    }
   ],
   "source": [
    "TrainingUtils.train(model, inputs['x_train'], inputs['y_train'], 20)"
   ]
  },
  {
   "cell_type": "markdown",
   "id": "940c42d6",
   "metadata": {},
   "source": [
    "## Evaluate"
   ]
  },
  {
   "cell_type": "code",
   "execution_count": 11,
   "id": "1e050d52",
   "metadata": {},
   "outputs": [
    {
     "name": "stdout",
     "output_type": "stream",
     "text": [
      "14/14 [==============================] - 0s 10ms/step - loss: 1.1714 - categorical_accuracy: 0.7254\n"
     ]
    }
   ],
   "source": [
    "test_error, accuracy = model.evaluate(inputs['x_test'], inputs['y_test'], verbose=1)"
   ]
  },
  {
   "cell_type": "markdown",
   "id": "eef157f5",
   "metadata": {},
   "source": [
    "## Predict"
   ]
  },
  {
   "cell_type": "code",
   "execution_count": 27,
   "id": "9887be18",
   "metadata": {},
   "outputs": [
    {
     "data": {
      "text/plain": [
       "False"
      ]
     },
     "execution_count": 27,
     "metadata": {},
     "output_type": "execute_result"
    }
   ],
   "source": [
    "pred_idx = 0\n",
    "pred = model.predict(np.expand_dims(inputs['x_eval'][pred_idx], axis=0))\n",
    "pred.argmax() == inputs['y_eval'][pred_idx].argmax()"
   ]
  },
  {
   "cell_type": "code",
   "execution_count": 28,
   "id": "defa129c",
   "metadata": {},
   "outputs": [
    {
     "data": {
      "text/plain": [
       "9"
      ]
     },
     "execution_count": 28,
     "metadata": {},
     "output_type": "execute_result"
    }
   ],
   "source": [
    "inputs['y_eval'][pred_idx].argmax()"
   ]
  },
  {
   "cell_type": "code",
   "execution_count": 29,
   "id": "fc6a109e",
   "metadata": {},
   "outputs": [
    {
     "data": {
      "text/plain": [
       "4"
      ]
     },
     "execution_count": 29,
     "metadata": {},
     "output_type": "execute_result"
    }
   ],
   "source": [
    "pred.argmax()"
   ]
  },
  {
   "cell_type": "code",
   "execution_count": null,
   "id": "3d7e9d54",
   "metadata": {},
   "outputs": [],
   "source": []
  }
 ],
 "metadata": {
  "kernelspec": {
   "display_name": "Python 3 (ipykernel)",
   "language": "python",
   "name": "python3"
  },
  "language_info": {
   "codemirror_mode": {
    "name": "ipython",
    "version": 3
   },
   "file_extension": ".py",
   "mimetype": "text/x-python",
   "name": "python",
   "nbconvert_exporter": "python",
   "pygments_lexer": "ipython3",
   "version": "3.8.9"
  }
 },
 "nbformat": 4,
 "nbformat_minor": 5
}
